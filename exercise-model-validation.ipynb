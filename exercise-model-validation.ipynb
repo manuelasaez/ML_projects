{
 "cells": [
  {
   "cell_type": "markdown",
   "id": "16c5d2ad",
   "metadata": {
    "papermill": {
     "duration": 0.005132,
     "end_time": "2024-05-13T01:58:06.177387",
     "exception": false,
     "start_time": "2024-05-13T01:58:06.172255",
     "status": "completed"
    },
    "tags": []
   },
   "source": [
    "**This notebook is an exercise in the [Introduction to Machine Learning](https://www.kaggle.com/learn/intro-to-machine-learning) course.  You can reference the tutorial at [this link](https://www.kaggle.com/dansbecker/model-validation).**\n",
    "\n",
    "---\n"
   ]
  },
  {
   "cell_type": "markdown",
   "id": "dc0fdb83",
   "metadata": {
    "papermill": {
     "duration": 0.004029,
     "end_time": "2024-05-13T01:58:06.186133",
     "exception": false,
     "start_time": "2024-05-13T01:58:06.182104",
     "status": "completed"
    },
    "tags": []
   },
   "source": [
    "## Recap\n",
    "You've built a model. In this exercise you will test how good your model is.\n",
    "\n",
    "Run the cell below to set up your coding environment where the previous exercise left off."
   ]
  },
  {
   "cell_type": "code",
   "execution_count": 1,
   "id": "a39beeac",
   "metadata": {
    "execution": {
     "iopub.execute_input": "2024-05-13T01:58:06.197352Z",
     "iopub.status.busy": "2024-05-13T01:58:06.196537Z",
     "iopub.status.idle": "2024-05-13T01:58:08.758365Z",
     "shell.execute_reply": "2024-05-13T01:58:08.755980Z"
    },
    "papermill": {
     "duration": 2.570653,
     "end_time": "2024-05-13T01:58:08.761066",
     "exception": false,
     "start_time": "2024-05-13T01:58:06.190413",
     "status": "completed"
    },
    "tags": []
   },
   "outputs": [
    {
     "name": "stdout",
     "output_type": "stream",
     "text": [
      "First in-sample predictions: [208500. 181500. 223500. 140000. 250000.]\n",
      "Actual target values for those homes: [208500, 181500, 223500, 140000, 250000]\n",
      "Setup Complete\n"
     ]
    }
   ],
   "source": [
    "# Code you have previously used to load data\n",
    "import pandas as pd\n",
    "from sklearn.tree import DecisionTreeRegressor\n",
    "\n",
    "# Path of the file to read\n",
    "iowa_file_path = '../input/home-data-for-ml-course/train.csv'\n",
    "\n",
    "home_data = pd.read_csv(iowa_file_path)\n",
    "y = home_data.SalePrice\n",
    "feature_columns = ['LotArea', 'YearBuilt', '1stFlrSF', '2ndFlrSF', 'FullBath', 'BedroomAbvGr', 'TotRmsAbvGrd']\n",
    "X = home_data[feature_columns]\n",
    "\n",
    "# Specify Model\n",
    "iowa_model = DecisionTreeRegressor()\n",
    "# Fit Model\n",
    "iowa_model.fit(X, y)\n",
    "\n",
    "print(\"First in-sample predictions:\", iowa_model.predict(X.head()))\n",
    "print(\"Actual target values for those homes:\", y.head().tolist())\n",
    "\n",
    "# Set up code checking\n",
    "from learntools.core import binder\n",
    "binder.bind(globals())\n",
    "from learntools.machine_learning.ex4 import *\n",
    "print(\"Setup Complete\")"
   ]
  },
  {
   "cell_type": "markdown",
   "id": "ce177ecb",
   "metadata": {
    "papermill": {
     "duration": 0.004137,
     "end_time": "2024-05-13T01:58:08.769932",
     "exception": false,
     "start_time": "2024-05-13T01:58:08.765795",
     "status": "completed"
    },
    "tags": []
   },
   "source": [
    "# Exercises\n",
    "\n",
    "## Step 1: Split Your Data\n",
    "Use the `train_test_split` function to split up your data.\n",
    "\n",
    "Give it the argument `random_state=1` so the `check` functions know what to expect when verifying your code.\n",
    "\n",
    "Recall, your features are loaded in the DataFrame **X** and your target is loaded in **y**.\n"
   ]
  },
  {
   "cell_type": "code",
   "execution_count": 2,
   "id": "2c43b4b9",
   "metadata": {
    "execution": {
     "iopub.execute_input": "2024-05-13T01:58:08.780579Z",
     "iopub.status.busy": "2024-05-13T01:58:08.780197Z",
     "iopub.status.idle": "2024-05-13T01:58:08.797734Z",
     "shell.execute_reply": "2024-05-13T01:58:08.796648Z"
    },
    "papermill": {
     "duration": 0.026261,
     "end_time": "2024-05-13T01:58:08.800526",
     "exception": false,
     "start_time": "2024-05-13T01:58:08.774265",
     "status": "completed"
    },
    "tags": []
   },
   "outputs": [
    {
     "data": {
      "application/javascript": [
       "parent.postMessage({\"jupyterEvent\": \"custom.exercise_interaction\", \"data\": {\"outcomeType\": 1, \"valueTowardsCompletion\": 0.25, \"interactionType\": 1, \"questionType\": 2, \"questionId\": \"1_SplitData\", \"learnToolsVersion\": \"0.3.4\", \"failureMessage\": \"\", \"exceptionClass\": \"\", \"trace\": \"\"}}, \"*\")"
      ],
      "text/plain": [
       "<IPython.core.display.Javascript object>"
      ]
     },
     "metadata": {},
     "output_type": "display_data"
    },
    {
     "data": {
      "text/markdown": [
       "<span style=\"color:#33cc33\">Correct</span>"
      ],
      "text/plain": [
       "Correct"
      ]
     },
     "metadata": {},
     "output_type": "display_data"
    }
   ],
   "source": [
    "# Import the train_test_split function and uncomment\n",
    "from sklearn.model_selection import train_test_split\n",
    "\n",
    "# fill in and uncomment\n",
    "train_X, val_X, train_y, val_y = train_test_split(X, y, random_state = 1)\n",
    "\n",
    "# Check your answer\n",
    "step_1.check()"
   ]
  },
  {
   "cell_type": "code",
   "execution_count": 3,
   "id": "56cc906b",
   "metadata": {
    "execution": {
     "iopub.execute_input": "2024-05-13T01:58:08.811471Z",
     "iopub.status.busy": "2024-05-13T01:58:08.811025Z",
     "iopub.status.idle": "2024-05-13T01:58:08.815423Z",
     "shell.execute_reply": "2024-05-13T01:58:08.814532Z"
    },
    "papermill": {
     "duration": 0.012272,
     "end_time": "2024-05-13T01:58:08.817494",
     "exception": false,
     "start_time": "2024-05-13T01:58:08.805222",
     "status": "completed"
    },
    "tags": []
   },
   "outputs": [],
   "source": [
    "# The lines below will show you a hint or the solution.\n",
    "# step_1.hint() \n",
    "# step_1.solution()\n"
   ]
  },
  {
   "cell_type": "markdown",
   "id": "b80471b1",
   "metadata": {
    "papermill": {
     "duration": 0.004584,
     "end_time": "2024-05-13T01:58:08.826884",
     "exception": false,
     "start_time": "2024-05-13T01:58:08.822300",
     "status": "completed"
    },
    "tags": []
   },
   "source": [
    "## Step 2: Specify and Fit the Model\n",
    "\n",
    "Create a `DecisionTreeRegressor` model and fit it to the relevant data.\n",
    "Set `random_state` to 1 again when creating the model."
   ]
  },
  {
   "cell_type": "code",
   "execution_count": 4,
   "id": "7f06e477",
   "metadata": {
    "execution": {
     "iopub.execute_input": "2024-05-13T01:58:08.837962Z",
     "iopub.status.busy": "2024-05-13T01:58:08.837593Z",
     "iopub.status.idle": "2024-05-13T01:58:08.865081Z",
     "shell.execute_reply": "2024-05-13T01:58:08.864311Z"
    },
    "papermill": {
     "duration": 0.035162,
     "end_time": "2024-05-13T01:58:08.866971",
     "exception": false,
     "start_time": "2024-05-13T01:58:08.831809",
     "status": "completed"
    },
    "tags": []
   },
   "outputs": [
    {
     "name": "stdout",
     "output_type": "stream",
     "text": [
      "[186500. 184000. 130000.  92000. 164500. 220000. 335000. 144152. 215000.\n",
      " 262000.]\n",
      "[186500. 184000. 130000.  92000. 164500. 220000. 335000. 144152. 215000.\n",
      " 262000.]\n"
     ]
    },
    {
     "data": {
      "application/javascript": [
       "parent.postMessage({\"jupyterEvent\": \"custom.exercise_interaction\", \"data\": {\"outcomeType\": 1, \"valueTowardsCompletion\": 0.25, \"interactionType\": 1, \"questionType\": 2, \"questionId\": \"2_FitModelWithTrain\", \"learnToolsVersion\": \"0.3.4\", \"failureMessage\": \"\", \"exceptionClass\": \"\", \"trace\": \"\"}}, \"*\")"
      ],
      "text/plain": [
       "<IPython.core.display.Javascript object>"
      ]
     },
     "metadata": {},
     "output_type": "display_data"
    },
    {
     "data": {
      "text/markdown": [
       "<span style=\"color:#33cc33\">Correct</span>"
      ],
      "text/plain": [
       "Correct"
      ]
     },
     "metadata": {},
     "output_type": "display_data"
    }
   ],
   "source": [
    "# You imported DecisionTreeRegressor in your last exercise\n",
    "# and that code has been copied to the setup code above. So, no need to\n",
    "# import it again\n",
    "\n",
    "# Specify the model\n",
    "iowa_model = DecisionTreeRegressor(random_state = 1)\n",
    "# Fit model\n",
    "iowa_model.fit(train_X, train_y)\n",
    "\n",
    "\n",
    "# Check your answer\n",
    "step_2.check()"
   ]
  },
  {
   "cell_type": "code",
   "execution_count": 5,
   "id": "e96eb17f",
   "metadata": {
    "execution": {
     "iopub.execute_input": "2024-05-13T01:58:08.879049Z",
     "iopub.status.busy": "2024-05-13T01:58:08.878451Z",
     "iopub.status.idle": "2024-05-13T01:58:08.882189Z",
     "shell.execute_reply": "2024-05-13T01:58:08.881201Z"
    },
    "papermill": {
     "duration": 0.012107,
     "end_time": "2024-05-13T01:58:08.884182",
     "exception": false,
     "start_time": "2024-05-13T01:58:08.872075",
     "status": "completed"
    },
    "tags": []
   },
   "outputs": [],
   "source": [
    "# step_2.hint()\n",
    "# step_2.solution()"
   ]
  },
  {
   "cell_type": "markdown",
   "id": "9ec4c1ed",
   "metadata": {
    "papermill": {
     "duration": 0.004896,
     "end_time": "2024-05-13T01:58:08.894298",
     "exception": false,
     "start_time": "2024-05-13T01:58:08.889402",
     "status": "completed"
    },
    "tags": []
   },
   "source": [
    "## Step 3: Make Predictions with Validation data\n"
   ]
  },
  {
   "cell_type": "code",
   "execution_count": 6,
   "id": "7221dd92",
   "metadata": {
    "execution": {
     "iopub.execute_input": "2024-05-13T01:58:08.906447Z",
     "iopub.status.busy": "2024-05-13T01:58:08.905764Z",
     "iopub.status.idle": "2024-05-13T01:58:08.915950Z",
     "shell.execute_reply": "2024-05-13T01:58:08.915217Z"
    },
    "papermill": {
     "duration": 0.018344,
     "end_time": "2024-05-13T01:58:08.917761",
     "exception": false,
     "start_time": "2024-05-13T01:58:08.899417",
     "status": "completed"
    },
    "tags": []
   },
   "outputs": [
    {
     "data": {
      "application/javascript": [
       "parent.postMessage({\"jupyterEvent\": \"custom.exercise_interaction\", \"data\": {\"outcomeType\": 1, \"valueTowardsCompletion\": 0.25, \"interactionType\": 1, \"questionType\": 2, \"questionId\": \"3_ValPreds\", \"learnToolsVersion\": \"0.3.4\", \"failureMessage\": \"\", \"exceptionClass\": \"\", \"trace\": \"\"}}, \"*\")"
      ],
      "text/plain": [
       "<IPython.core.display.Javascript object>"
      ]
     },
     "metadata": {},
     "output_type": "display_data"
    },
    {
     "data": {
      "text/markdown": [
       "<span style=\"color:#33cc33\">Correct</span>"
      ],
      "text/plain": [
       "Correct"
      ]
     },
     "metadata": {},
     "output_type": "display_data"
    }
   ],
   "source": [
    "# Predict with all validation observations\n",
    "val_predictions =  iowa_model.predict(val_X)\n",
    "\n",
    "# Check your answer\n",
    "step_3.check()"
   ]
  },
  {
   "cell_type": "code",
   "execution_count": 7,
   "id": "aa1c72c1",
   "metadata": {
    "execution": {
     "iopub.execute_input": "2024-05-13T01:58:08.930746Z",
     "iopub.status.busy": "2024-05-13T01:58:08.929948Z",
     "iopub.status.idle": "2024-05-13T01:58:08.933605Z",
     "shell.execute_reply": "2024-05-13T01:58:08.932860Z"
    },
    "papermill": {
     "duration": 0.012287,
     "end_time": "2024-05-13T01:58:08.935495",
     "exception": false,
     "start_time": "2024-05-13T01:58:08.923208",
     "status": "completed"
    },
    "tags": []
   },
   "outputs": [],
   "source": [
    "# step_3.hint()\n",
    "# step_3.solution()"
   ]
  },
  {
   "cell_type": "markdown",
   "id": "e97c037b",
   "metadata": {
    "papermill": {
     "duration": 0.005055,
     "end_time": "2024-05-13T01:58:08.945933",
     "exception": false,
     "start_time": "2024-05-13T01:58:08.940878",
     "status": "completed"
    },
    "tags": []
   },
   "source": [
    "Inspect your predictions and actual values from validation data."
   ]
  },
  {
   "cell_type": "code",
   "execution_count": 8,
   "id": "d3ecb8b5",
   "metadata": {
    "execution": {
     "iopub.execute_input": "2024-05-13T01:58:08.960026Z",
     "iopub.status.busy": "2024-05-13T01:58:08.958760Z",
     "iopub.status.idle": "2024-05-13T01:58:08.967826Z",
     "shell.execute_reply": "2024-05-13T01:58:08.966317Z"
    },
    "papermill": {
     "duration": 0.017863,
     "end_time": "2024-05-13T01:58:08.970150",
     "exception": false,
     "start_time": "2024-05-13T01:58:08.952287",
     "status": "completed"
    },
    "tags": []
   },
   "outputs": [
    {
     "name": "stdout",
     "output_type": "stream",
     "text": [
      "[186500. 184000. 130000.  92000. 164500.]\n",
      "[231500, 179500, 122000, 84500, 142000]\n"
     ]
    }
   ],
   "source": [
    "# print the top few validation predictions\n",
    "print(iowa_model.predict(val_X.head()))\n",
    "# print the top few actual prices from validation data\n",
    "print(val_y.head().tolist())\n"
   ]
  },
  {
   "cell_type": "markdown",
   "id": "fc729fea",
   "metadata": {
    "papermill": {
     "duration": 0.005175,
     "end_time": "2024-05-13T01:58:08.980939",
     "exception": false,
     "start_time": "2024-05-13T01:58:08.975764",
     "status": "completed"
    },
    "tags": []
   },
   "source": [
    "What do you notice that is different from what you saw with in-sample predictions (which are printed after the top code cell in this page).\n",
    "\n",
    "Do you remember why validation predictions differ from in-sample (or training) predictions? This is an important idea from the last lesson.\n",
    "\n",
    "## Step 4: Calculate the Mean Absolute Error in Validation Data\n"
   ]
  },
  {
   "cell_type": "code",
   "execution_count": 9,
   "id": "b74c7bdc",
   "metadata": {
    "execution": {
     "iopub.execute_input": "2024-05-13T01:58:08.993408Z",
     "iopub.status.busy": "2024-05-13T01:58:08.993038Z",
     "iopub.status.idle": "2024-05-13T01:58:09.006301Z",
     "shell.execute_reply": "2024-05-13T01:58:09.005218Z"
    },
    "papermill": {
     "duration": 0.022705,
     "end_time": "2024-05-13T01:58:09.009079",
     "exception": false,
     "start_time": "2024-05-13T01:58:08.986374",
     "status": "completed"
    },
    "tags": []
   },
   "outputs": [
    {
     "name": "stdout",
     "output_type": "stream",
     "text": [
      "29652.931506849316\n"
     ]
    },
    {
     "data": {
      "application/javascript": [
       "parent.postMessage({\"jupyterEvent\": \"custom.exercise_interaction\", \"data\": {\"outcomeType\": 1, \"valueTowardsCompletion\": 0.25, \"interactionType\": 1, \"questionType\": 1, \"questionId\": \"4_MAE\", \"learnToolsVersion\": \"0.3.4\", \"failureMessage\": \"\", \"exceptionClass\": \"\", \"trace\": \"\"}}, \"*\")"
      ],
      "text/plain": [
       "<IPython.core.display.Javascript object>"
      ]
     },
     "metadata": {},
     "output_type": "display_data"
    },
    {
     "data": {
      "text/markdown": [
       "<span style=\"color:#33cc33\">Correct</span>"
      ],
      "text/plain": [
       "Correct"
      ]
     },
     "metadata": {},
     "output_type": "display_data"
    }
   ],
   "source": [
    "from sklearn.metrics import mean_absolute_error\n",
    "val_mae = mean_absolute_error(val_y, iowa_model.predict(val_X))\n",
    "\n",
    "# uncomment following line to see the validation_mae\n",
    "print(val_mae)\n",
    "\n",
    "# Check your answer\n",
    "step_4.check()"
   ]
  },
  {
   "cell_type": "code",
   "execution_count": 10,
   "id": "df998cd2",
   "metadata": {
    "execution": {
     "iopub.execute_input": "2024-05-13T01:58:09.023096Z",
     "iopub.status.busy": "2024-05-13T01:58:09.022683Z",
     "iopub.status.idle": "2024-05-13T01:58:09.027932Z",
     "shell.execute_reply": "2024-05-13T01:58:09.026240Z"
    },
    "papermill": {
     "duration": 0.014915,
     "end_time": "2024-05-13T01:58:09.030376",
     "exception": false,
     "start_time": "2024-05-13T01:58:09.015461",
     "status": "completed"
    },
    "tags": []
   },
   "outputs": [],
   "source": [
    "# step_4.hint()\n",
    "# step_4.solution()"
   ]
  },
  {
   "cell_type": "markdown",
   "id": "7e8c9d51",
   "metadata": {
    "papermill": {
     "duration": 0.00574,
     "end_time": "2024-05-13T01:58:09.042848",
     "exception": false,
     "start_time": "2024-05-13T01:58:09.037108",
     "status": "completed"
    },
    "tags": []
   },
   "source": [
    "Is that MAE good?  There isn't a general rule for what values are good that applies across applications. But you'll see how to use (and improve) this number in the next step.\n",
    "\n",
    "# Keep Going\n",
    "\n",
    "You are ready for **[Underfitting and Overfitting](https://www.kaggle.com/dansbecker/underfitting-and-overfitting).**\n"
   ]
  },
  {
   "cell_type": "markdown",
   "id": "231f0267",
   "metadata": {
    "papermill": {
     "duration": 0.006318,
     "end_time": "2024-05-13T01:58:09.055577",
     "exception": false,
     "start_time": "2024-05-13T01:58:09.049259",
     "status": "completed"
    },
    "tags": []
   },
   "source": [
    "---\n",
    "\n",
    "\n",
    "\n",
    "\n",
    "*Have questions or comments? Visit the [course discussion forum](https://www.kaggle.com/learn/intro-to-machine-learning/discussion) to chat with other learners.*"
   ]
  }
 ],
 "metadata": {
  "kaggle": {
   "accelerator": "none",
   "dataSources": [
    {
     "databundleVersionId": 111096,
     "sourceId": 10211,
     "sourceType": "competition"
    },
    {
     "datasetId": 11167,
     "sourceId": 15520,
     "sourceType": "datasetVersion"
    },
    {
     "datasetId": 2709,
     "sourceId": 38454,
     "sourceType": "datasetVersion"
    }
   ],
   "isGpuEnabled": false,
   "isInternetEnabled": false,
   "language": "python",
   "sourceType": "notebook"
  },
  "kernelspec": {
   "display_name": "Python 3",
   "language": "python",
   "name": "python3"
  },
  "language_info": {
   "codemirror_mode": {
    "name": "ipython",
    "version": 3
   },
   "file_extension": ".py",
   "mimetype": "text/x-python",
   "name": "python",
   "nbconvert_exporter": "python",
   "pygments_lexer": "ipython3",
   "version": "3.10.13"
  },
  "papermill": {
   "default_parameters": {},
   "duration": 6.364677,
   "end_time": "2024-05-13T01:58:09.682107",
   "environment_variables": {},
   "exception": null,
   "input_path": "__notebook__.ipynb",
   "output_path": "__notebook__.ipynb",
   "parameters": {},
   "start_time": "2024-05-13T01:58:03.317430",
   "version": "2.5.0"
  }
 },
 "nbformat": 4,
 "nbformat_minor": 5
}
